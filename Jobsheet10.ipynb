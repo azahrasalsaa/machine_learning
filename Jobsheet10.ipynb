{
  "nbformat": 4,
  "nbformat_minor": 0,
  "metadata": {
    "colab": {
      "provenance": [],
      "authorship_tag": "ABX9TyOAXK9BjKUMqJiNHHtnpGee",
      "include_colab_link": true
    },
    "kernelspec": {
      "name": "python3",
      "display_name": "Python 3"
    },
    "language_info": {
      "name": "python"
    }
  },
  "cells": [
    {
      "cell_type": "markdown",
      "metadata": {
        "id": "view-in-github",
        "colab_type": "text"
      },
      "source": [
        "<a href=\"https://colab.research.google.com/github/azahrasalsaa/machine_learning/blob/main/Jobsheet10.ipynb\" target=\"_parent\"><img src=\"https://colab.research.google.com/assets/colab-badge.svg\" alt=\"Open In Colab\"/></a>"
      ]
    },
    {
      "cell_type": "markdown",
      "source": [
        "##**Lab Work 1**\n",
        "\n",
        "-----"
      ],
      "metadata": {
        "id": "XrOp7epAlJUo"
      }
    },
    {
      "cell_type": "markdown",
      "source": [],
      "metadata": {
        "id": "iIPe4pkWlU-a"
      }
    },
    {
      "cell_type": "code",
      "execution_count": null,
      "metadata": {
        "id": "Iy21lZfolDjE"
      },
      "outputs": [],
      "source": []
    },
    {
      "cell_type": "markdown",
      "source": [
        "##**Lab Work 2**\n",
        "\n",
        "-----"
      ],
      "metadata": {
        "id": "VnkJq36AlK34"
      }
    },
    {
      "cell_type": "code",
      "source": [],
      "metadata": {
        "id": "xPJsVfc_lMWs"
      },
      "execution_count": null,
      "outputs": []
    },
    {
      "cell_type": "markdown",
      "source": [
        "##**Lab Assignment**\n",
        "\n",
        "-----"
      ],
      "metadata": {
        "id": "i75TraAElMkq"
      }
    }
  ]
}