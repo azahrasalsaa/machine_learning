{
  "nbformat": 4,
  "nbformat_minor": 0,
  "metadata": {
    "colab": {
      "provenance": [],
      "authorship_tag": "ABX9TyP8aa6XBowCP8xs9KJFYD8j",
      "include_colab_link": true
    },
    "kernelspec": {
      "name": "python3",
      "display_name": "Python 3"
    },
    "language_info": {
      "name": "python"
    }
  },
  "cells": [
    {
      "cell_type": "markdown",
      "metadata": {
        "id": "view-in-github",
        "colab_type": "text"
      },
      "source": [
        "<a href=\"https://colab.research.google.com/github/azahrasalsaa/machine_learning/blob/main/Jobsheet9.ipynb\" target=\"_parent\"><img src=\"https://colab.research.google.com/assets/colab-badge.svg\" alt=\"Open In Colab\"/></a>"
      ]
    },
    {
      "cell_type": "markdown",
      "source": [
        "##**Lab Work 1**\n",
        "\n",
        "-----"
      ],
      "metadata": {
        "id": "q1_US5D5h1ln"
      }
    },
    {
      "cell_type": "markdown",
      "source": [
        "###**Iris Classification Using Perceptron**"
      ],
      "metadata": {
        "id": "2N519sariLK8"
      }
    },
    {
      "cell_type": "markdown",
      "source": [
        "**Step 1 - Import Library**"
      ],
      "metadata": {
        "id": "7zLeF0QMiTN0"
      }
    },
    {
      "cell_type": "code",
      "execution_count": null,
      "metadata": {
        "id": "6SbY-Kl5hxCN"
      },
      "outputs": [],
      "source": [
        "import numpy as np\n",
        "import matplotlib.pyplot as plt\n",
        "import pandas as pd\n",
        "import seaborn as sns"
      ]
    },
    {
      "cell_type": "markdown",
      "source": [
        "##**Lab Work 2**\n",
        "\n",
        "-----"
      ],
      "metadata": {
        "id": "02_Ncv0Th3Kw"
      }
    },
    {
      "cell_type": "code",
      "source": [],
      "metadata": {
        "id": "kBdCE-fMh4tJ"
      },
      "execution_count": null,
      "outputs": []
    },
    {
      "cell_type": "markdown",
      "source": [
        "##**Lab Work 3**\n",
        "\n",
        "-----"
      ],
      "metadata": {
        "id": "lA1t7Q8Fh4-D"
      }
    },
    {
      "cell_type": "code",
      "source": [],
      "metadata": {
        "id": "4PMFgIenh6NX"
      },
      "execution_count": null,
      "outputs": []
    },
    {
      "cell_type": "markdown",
      "source": [
        "##**Lab Work 4**\n",
        "\n",
        "-----"
      ],
      "metadata": {
        "id": "obqG9CPxh6ez"
      }
    },
    {
      "cell_type": "code",
      "source": [],
      "metadata": {
        "id": "xB8OxlUjh8OJ"
      },
      "execution_count": null,
      "outputs": []
    },
    {
      "cell_type": "markdown",
      "source": [
        "##**Lab Assignment**\n",
        "\n",
        "-----"
      ],
      "metadata": {
        "id": "vt1UsGXth8bA"
      }
    },
    {
      "cell_type": "code",
      "source": [],
      "metadata": {
        "id": "zD1jRgx1h_xN"
      },
      "execution_count": null,
      "outputs": []
    }
  ]
}